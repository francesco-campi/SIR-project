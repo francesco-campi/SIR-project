{
 "cells": [
  {
   "cell_type": "markdown",
   "metadata": {},
   "source": [
    "# Graphical representation of SIR\n",
    "\n",
    "Firstly run the project to create the csv files cotaining all the data about the simulation."
   ]
  },
  {
   "cell_type": "code",
   "execution_count": null,
   "metadata": {},
   "outputs": [],
   "source": [
    "import pandas as pd\n",
    "#GIF\n",
    "import imageio\n",
    "import os"
   ]
  },
  {
   "cell_type": "code",
   "execution_count": null,
   "metadata": {},
   "outputs": [],
   "source": [
    "#read the csv files\n",
    "simulation = pd.read_csv(\"../tests/simulation.csv\", delimiter='\\t', header=None)\n",
    "overview = pd.read_csv(\"../tests/overview.csv\", delimiter='\\t', header=None)"
   ]
  },
  {
   "cell_type": "code",
   "execution_count": null,
   "metadata": {},
   "outputs": [],
   "source": [
    "#Remove the files of previous simulations.\n",
    "if(os.path.exists('Simulation.gif')):\n",
    "        os.remove('Simulation.gif')\n",
    "if(os.path.exists('Supsceptibles.png')):\n",
    "        os.remove('Supsceptibles.png')\n",
    "if(os.path.exists('Infected.png')):\n",
    "        os.remove('Infected.png')\n",
    "if(os.path.exists('Recovered.png')):\n",
    "        os.remove('Recovered.png')"
   ]
  },
  {
   "cell_type": "code",
   "execution_count": null,
   "metadata": {},
   "outputs": [],
   "source": [
    "#plot the overview\n",
    "import matplotlib.pyplot as plt\n",
    "time_stamp = overview.index\n",
    "supsceptible = overview[0]\n",
    "infected = overview[1]\n",
    "recovered = overview[2]\n",
    "\n",
    "#plot the supsceptibles\n",
    "plt.plot(time_stamp, supsceptible, 'b')\n",
    "plt.title(\"Supsceptibles\")\n",
    "plt.savefig(\"Supsceptibles.png\")\n",
    "plt.show()\n",
    "\n",
    "#plot the infected\n",
    "plt.plot(time_stamp, infected, 'r')\n",
    "plt.title(\"Infected\")\n",
    "plt.savefig(\"Infected.png\")\n",
    "plt.show()\n",
    "\n",
    "#plot the recovered\n",
    "plt.plot(time_stamp, recovered, 'y')\n",
    "plt.title(\"Recovered\")\n",
    "plt.savefig(\"Recovered.png\")\n",
    "plt.show()\n"
   ]
  },
  {
   "cell_type": "code",
   "execution_count": null,
   "metadata": {},
   "outputs": [],
   "source": [
    "#plot the population\n",
    "population_size = simulation.shape[1]//3\n",
    "\n",
    "#extract the bounding box parameters from the input file\n",
    "with open(\"../INPUT.txt\", \"r\") as f:\n",
    "    for line in f:\n",
    "        words = line.split()\n",
    "        if words[0] == 'bounding_box_width:':\n",
    "            width = words[1]\n",
    "        if words[0] == 'bounding_box_height:':\n",
    "            height = words[1]\n",
    "\n",
    "for i in simulation.index:\n",
    "    for j in range(population_size):\n",
    "        pos_x = simulation[3*j][i]\n",
    "        pos_y = simulation[3*j +1][i]\n",
    "        status = simulation[3*j+2][i]\n",
    "        if status == 0:\n",
    "            plt.plot(pos_x,pos_y, 'bo')\n",
    "        elif status == 1:\n",
    "            plt.plot(pos_x, pos_y, 'ro')\n",
    "        else:\n",
    "            plt.plot(pos_x,pos_y,'yo')\n",
    "        plt.annotate(str(j+1), (pos_x, pos_y))\n",
    "    plt.ylim(0, float(height))\n",
    "    plt.xlim(0, float(width))\n",
    "    #save the image\n",
    "    plt.savefig(f'{i}.png')\n",
    "    plt.close()\n",
    "\n",
    "\n",
    "with imageio.get_writer('Simulation.gif', mode='I') as writer:\n",
    "    for i in simulation.index:\n",
    "        image = imageio.imread(f'{i}.png')\n",
    "        for j in range(5):\n",
    "            writer.append_data(image)\n",
    "        #remove the file again\n",
    "        os.remove(f'{i}.png')\n"
   ]
  },
  {
   "cell_type": "code",
   "execution_count": null,
   "metadata": {},
   "outputs": [],
   "source": []
  }
 ],
 "metadata": {
  "interpreter": {
   "hash": "d206a90f5c88ce6c2910098fca49da020e042b5ca0b013a1e96f4c2fa0d5151a"
  },
  "kernelspec": {
   "display_name": "Python 3",
   "language": "python",
   "name": "python3"
  },
  "language_info": {
   "codemirror_mode": {
    "name": "ipython",
    "version": 3
   },
   "file_extension": ".py",
   "mimetype": "text/x-python",
   "name": "python",
   "nbconvert_exporter": "python",
   "pygments_lexer": "ipython3",
   "version": "3.8.12"
  }
 },
 "nbformat": 4,
 "nbformat_minor": 4
}
